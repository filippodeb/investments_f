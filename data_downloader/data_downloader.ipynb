{
 "cells": [
  {
   "cell_type": "code",
   "execution_count": 34,
   "metadata": {},
   "outputs": [],
   "source": [
    "import pandas as pd\n",
    "import yfinance as yf\n",
    "from tickers import NASDAQ100_tickers, EU_tickers_trading212"
   ]
  },
  {
   "cell_type": "code",
   "execution_count": 35,
   "metadata": {},
   "outputs": [],
   "source": [
    "tickers_eu = EU_tickers_trading212\n",
    "tickers_nasdaq = NASDAQ100_tickers"
   ]
  },
  {
   "cell_type": "code",
   "execution_count": 36,
   "metadata": {},
   "outputs": [],
   "source": [
    "end_date = pd.Timestamp.today().normalize()\n",
    "start_date = end_date - pd.DateOffset(years=3)"
   ]
  },
  {
   "cell_type": "code",
   "execution_count": 37,
   "metadata": {},
   "outputs": [
    {
     "name": "stdout",
     "output_type": "stream",
     "text": [
      "[*********************100%***********************]  44 of 44 completed\n"
     ]
    }
   ],
   "source": [
    "data = yf.download(tickers_eu, start=start_date, end=end_date)"
   ]
  },
  {
   "cell_type": "code",
   "execution_count": 38,
   "metadata": {},
   "outputs": [],
   "source": [
    "data = data.loc[:,\"Adj Close\"]"
   ]
  },
  {
   "cell_type": "code",
   "execution_count": 39,
   "metadata": {},
   "outputs": [],
   "source": [
    "rets = data.pct_change().iloc[1:, :]\n",
    "rets = rets.dropna(axis=1, thresh=int(len(rets) * 0.95)).fillna(0.0)"
   ]
  },
  {
   "cell_type": "code",
   "execution_count": 40,
   "metadata": {},
   "outputs": [],
   "source": [
    "rets.to_excel(\"EUROSTOXX_ret_750.xlsx\")"
   ]
  }
 ],
 "metadata": {
  "interpreter": {
   "hash": "c360623d6f37526d25042edf6012b53b0a4757ce1e2a0308c406a02e12d605e9"
  },
  "kernelspec": {
   "display_name": "Python 3.9.1 64-bit ('qapital-Y2fDRKnY-py3.9': poetry)",
   "language": "python",
   "name": "python3"
  },
  "language_info": {
   "codemirror_mode": {
    "name": "ipython",
    "version": 3
   },
   "file_extension": ".py",
   "mimetype": "text/x-python",
   "name": "python",
   "nbconvert_exporter": "python",
   "pygments_lexer": "ipython3",
   "version": "3.9.2"
  },
  "orig_nbformat": 4
 },
 "nbformat": 4,
 "nbformat_minor": 2
}
